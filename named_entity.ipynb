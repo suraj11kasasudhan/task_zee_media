{
  "nbformat": 4,
  "nbformat_minor": 0,
  "metadata": {
    "colab": {
      "name": "named_entity.ipynb",
      "provenance": [],
      "authorship_tag": "ABX9TyOJTZkxKhi9wSRK7eWobbNc",
      "include_colab_link": true
    },
    "kernelspec": {
      "name": "python3",
      "display_name": "Python 3"
    },
    "language_info": {
      "name": "python"
    }
  },
  "cells": [
    {
      "cell_type": "markdown",
      "metadata": {
        "id": "view-in-github",
        "colab_type": "text"
      },
      "source": [
        "<a href=\"https://colab.research.google.com/github/suraj11kasasudhan/task_zee_media/blob/main/named_entity.ipynb\" target=\"_parent\"><img src=\"https://colab.research.google.com/assets/colab-badge.svg\" alt=\"Open In Colab\"/></a>"
      ]
    },
    {
      "cell_type": "code",
      "metadata": {
        "colab": {
          "base_uri": "https://localhost:8080/",
          "height": 142
        },
        "id": "Gu3xJhDsEjZE",
        "outputId": "6c0feb5f-8ae3-4a12-dacd-49476593cc88"
      },
      "source": [
        "import spacy\n",
        "#importing library \n",
        "\n",
        "nlp = spacy.load('en_core_web_sm')\n",
        "  \n",
        "sentence = \"apple is looking at buying U.K. startup for $1 billion\"\n",
        "  \n",
        "doc = nlp(sentence)\n",
        "\n",
        "\n",
        "entity=[]\n",
        "label=[]\n",
        "dict1={} \n",
        "for ent in doc.ents:\n",
        "    #print(ent.text, ent.start_char, ent.end_char, ent.label_)\n",
        "    entity.append(ent.text)\n",
        "    label.append(ent.label_)\n",
        "\n",
        "dict1[\"entity\"]=entity\n",
        "dict1[\"label\"]=label\n",
        "\n",
        "# creating dataframe to show entities and their label\n",
        "\n",
        "import pandas as pd\n",
        "df=pd.DataFrame(dict1)\n",
        "df.head()"
      ],
      "execution_count": 2,
      "outputs": [
        {
          "output_type": "execute_result",
          "data": {
            "text/html": [
              "<div>\n",
              "<style scoped>\n",
              "    .dataframe tbody tr th:only-of-type {\n",
              "        vertical-align: middle;\n",
              "    }\n",
              "\n",
              "    .dataframe tbody tr th {\n",
              "        vertical-align: top;\n",
              "    }\n",
              "\n",
              "    .dataframe thead th {\n",
              "        text-align: right;\n",
              "    }\n",
              "</style>\n",
              "<table border=\"1\" class=\"dataframe\">\n",
              "  <thead>\n",
              "    <tr style=\"text-align: right;\">\n",
              "      <th></th>\n",
              "      <th>entity</th>\n",
              "      <th>label</th>\n",
              "    </tr>\n",
              "  </thead>\n",
              "  <tbody>\n",
              "    <tr>\n",
              "      <th>0</th>\n",
              "      <td>apple</td>\n",
              "      <td>ORG</td>\n",
              "    </tr>\n",
              "    <tr>\n",
              "      <th>1</th>\n",
              "      <td>U.K.</td>\n",
              "      <td>GPE</td>\n",
              "    </tr>\n",
              "    <tr>\n",
              "      <th>2</th>\n",
              "      <td>$1 billion</td>\n",
              "      <td>MONEY</td>\n",
              "    </tr>\n",
              "  </tbody>\n",
              "</table>\n",
              "</div>"
            ],
            "text/plain": [
              "       entity  label\n",
              "0       apple    ORG\n",
              "1        U.K.    GPE\n",
              "2  $1 billion  MONEY"
            ]
          },
          "metadata": {
            "tags": []
          },
          "execution_count": 2
        }
      ]
    }
  ]
}